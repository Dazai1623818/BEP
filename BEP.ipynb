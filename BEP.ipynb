{
 "cells": [
  {
   "cell_type": "code",
   "execution_count": 1,
   "metadata": {},
   "outputs": [],
   "source": [
    "import requests\n",
    "import time"
   ]
  },
  {
   "cell_type": "code",
   "execution_count": 2,
   "metadata": {},
   "outputs": [],
   "source": [
    "page_limit = 50"
   ]
  },
  {
   "attachments": {},
   "cell_type": "markdown",
   "metadata": {},
   "source": [
    "---\n",
    "# Define functions"
   ]
  },
  {
   "cell_type": "code",
   "execution_count": 3,
   "metadata": {},
   "outputs": [],
   "source": [
    "def get_address(address_hash, limit, offset):\n",
    "    time.sleep(5)\n",
    "    api_url = f'https://blockchain.info/rawaddr/{address_hash}?&limit={limit}&offset={offset}'\n",
    "    request = requests.get(api_url)\n",
    "    if request.status_code != 200:\n",
    "        print(f'Error {request.status_code}')\n",
    "    else:\n",
    "        return request.json()\n",
    "\n",
    "def get_transactions(address):\n",
    "    txns = []\n",
    "    for i in range(address['n_tx']//page_limit + 1):\n",
    "        offset = i * page_limit\n",
    "        txns += get_address(address['address'], page_limit, offset)['txs']\n",
    "    return txns\n",
    "\n",
    "\n",
    "def get_input(txn):\n",
    "    return [i['prev_out']['addr'] for i in txn['inputs']]\n",
    "\n",
    "def get_output(txn):\n",
    "    return [i['addr'] for i in  txn['out']]\n",
    "\n",
    "\n",
    "\n"
   ]
  },
  {
   "attachments": {},
   "cell_type": "markdown",
   "metadata": {},
   "source": [
    "---\n",
    "## Get all transactions from a single address"
   ]
  },
  {
   "cell_type": "code",
   "execution_count": 4,
   "metadata": {},
   "outputs": [],
   "source": [
    "address = get_address('3JWk7dxhES1CV3m1L58MzXruk3NJH8Reqp', limit=page_limit, offset=0)\n",
    "transactions = get_transactions(address)\n",
    "nodes = {}\n",
    "for txn in transactions:\n",
    "    if txn['result'] > 0:\n",
    "        # this address received btc if end result positive\n",
    "        target = address['address']\n",
    "        source = get_input(txn)\n",
    "    else:\n",
    "        # this address sent btc to all outputs if end result is negative\n",
    "        target = get_output(txn)\n",
    "        source = address['address']\n",
    "    nodes[txn['hash']] = [source, target]\n",
    "        \n",
    "# Add nodes to json file\n",
    "# add current address to visited_nodes file\n",
    "# add queue file with all nodes to visit"
   ]
  },
  {
   "attachments": {},
   "cell_type": "markdown",
   "metadata": {},
   "source": [
    "---\n",
    "## Interesting txns"
   ]
  },
  {
   "cell_type": "code",
   "execution_count": null,
   "metadata": {},
   "outputs": [],
   "source": [
    "# many inputs 2 outputs 74dcccc2777819b68b45ea103fd03535139651832875c12d9d51d7d5639885c3\n"
   ]
  }
 ],
 "metadata": {
  "kernelspec": {
   "display_name": "Quant",
   "language": "python",
   "name": "python3"
  },
  "language_info": {
   "codemirror_mode": {
    "name": "ipython",
    "version": 3
   },
   "file_extension": ".py",
   "mimetype": "text/x-python",
   "name": "python",
   "nbconvert_exporter": "python",
   "pygments_lexer": "ipython3",
   "version": "3.9.15"
  },
  "orig_nbformat": 4
 },
 "nbformat": 4,
 "nbformat_minor": 2
}
